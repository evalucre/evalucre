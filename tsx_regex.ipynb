{
  "nbformat": 4,
  "nbformat_minor": 0,
  "metadata": {
    "colab": {
      "name": "tsx_regex.ipynb",
      "provenance": [],
      "collapsed_sections": [],
      "mount_file_id": "182soO8e7tfYxB3A1q8BmKpeHzH3AtEUL",
      "authorship_tag": "ABX9TyM0ZvIPN7rALPuWGylqyV35"
    },
    "kernelspec": {
      "name": "python3",
      "display_name": "Python 3"
    },
    "language_info": {
      "name": "python"
    }
  },
  "cells": [
    {
      "cell_type": "code",
      "metadata": {
        "id": "aEN8rGY1sipc"
      },
      "source": [
        "from urllib.request import urlopen\n",
        "import re\n",
        "import numpy as np\n",
        "import pandas as pd\n",
        "\n",
        "\n",
        "\n"
      ],
      "execution_count": null,
      "outputs": []
    },
    {
      "cell_type": "code",
      "metadata": {
        "id": "yQTeqcbOnsBP"
      },
      "source": [
        "#regular expression for generating list of csx equities\n",
        "\n",
        "link = \"https://www.tsx.com/json/company-directory/search/tsx/%5E*\"\n",
        "\n",
        "source_page = urlopen(link)\n",
        "source_file = source_page.read()\n",
        "\n",
        "source_file = re.sub(\"[{}\\[\\]]\", \" \", str(source_file))\n",
        "source_file = re.sub(\"[\\\"]\", \"\", str(source_file))\n",
        "source_file = re.sub(\",\", \"_ \", str(source_file))\n",
        "\n",
        "symbols = re.findall(\"symbol:[.A-Z]*_{1}\", str(source_file))\n",
        "\n",
        "symbols = re.sub(\"_\", \".TO\", str(symbols))\n",
        "symbols = re.sub(\"symbol:\", \"\", str(symbols))\n",
        "\n",
        "str1 = symbols.replace(\"]\",\"\").replace(\"[\",\"\")\n",
        "ticker_list = str1.replace(\"'\",\"\").replace(\" \", \"\").split(\",\")\n",
        "ticker_list = np.unique(ticker_list)\n",
        "\n",
        "ticker_list = pd.DataFrame(ticker_list)\n",
        "output_text = \"tsx_tickers\"\n",
        "ticker_list.to_csv('/content/drive/MyDrive/Colab Notebooks/{}.csv'.format(output_text), header=True, index=False)\n"
      ],
      "execution_count": null,
      "outputs": []
    }
  ]
}