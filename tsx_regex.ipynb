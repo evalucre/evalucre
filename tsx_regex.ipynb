{
  "nbformat": 4,
  "nbformat_minor": 0,
  "metadata": {
    "colab": {
      "name": "tsx_regex.ipynb",
      "provenance": [],
      "collapsed_sections": [],
      "authorship_tag": "ABX9TyNVe2BlJxovnrJDD+3PcmiV",
      "include_colab_link": true
    },
    "kernelspec": {
      "name": "python3",
      "display_name": "Python 3"
    },
    "language_info": {
      "name": "python"
    }
  },
  "cells": [
    {
      "cell_type": "markdown",
      "metadata": {
        "id": "view-in-github",
        "colab_type": "text"
      },
      "source": [
        "<a href=\"https://colab.research.google.com/github/evalucre/evalucre/blob/main/tsx_regex.ipynb\" target=\"_parent\"><img src=\"https://colab.research.google.com/assets/colab-badge.svg\" alt=\"Open In Colab\"/></a>"
      ]
    },
    {
      "cell_type": "code",
      "metadata": {
        "id": "aEN8rGY1sipc"
      },
      "source": [
        "from urllib.request import urlopen\n",
        "import re\n",
        "import numpy as np\n",
        "\n",
        "\n",
        "\n"
      ],
      "execution_count": 197,
      "outputs": []
    },
    {
      "cell_type": "code",
      "metadata": {
        "id": "yQTeqcbOnsBP"
      },
      "source": [
        "#regular expression for generating list of csx equities\n",
        "\n",
        "link = \"https://www.tsx.com/json/company-directory/search/tsx/%5E*\"\n",
        "\n",
        "source_page = urlopen(link)\n",
        "source_file = source_page.read()\n",
        "\n",
        "source_file = re.sub(\"[{}\\[\\]]\", \" \", str(source_file))\n",
        "source_file = re.sub(\"[\\\"]\", \"\", str(source_file))\n",
        "source_file = re.sub(\",\", \"_ \", str(source_file))\n",
        "\n",
        "symbols = re.findall(\"symbol:[.A-Z]*_{1}\", str(source_file))\n",
        "\n",
        "symbols = re.sub(\"_\", \"\", str(symbols))\n",
        "symbols = re.sub(\"symbol:\", \"\", str(symbols))\n",
        "\n",
        "str1 = symbols.replace(\"]\",\"\").replace(\"[\",\"\")\n",
        "ticker_list = str1.replace(\"'\",\"\").replace(\" \", \"\").split(\",\")\n",
        "ticker_list = np.unique(ticker_list)\n"
      ],
      "execution_count": 217,
      "outputs": []
    }
  ]
}